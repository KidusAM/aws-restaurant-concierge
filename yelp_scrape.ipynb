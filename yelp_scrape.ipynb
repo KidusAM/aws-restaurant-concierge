{
 "cells": [
  {
   "cell_type": "code",
   "execution_count": null,
   "id": "d4f9ce39-cb6b-42fb-a1f3-6e3666711628",
   "metadata": {},
   "outputs": [],
   "source": [
    "import requests\n",
    "import json\n",
    "import csv\n",
    "import time\n",
    "import boto3\n",
    "from decimal import Decimal\n",
    "from requests_aws4auth import AWS4Auth\n"
   ]
  },
  {
   "cell_type": "code",
   "execution_count": null,
   "id": "78f9feca-fd6e-448b-aa94-c711aa686603",
   "metadata": {},
   "outputs": [],
   "source": [
    "restaurants = dict()"
   ]
  },
  {
   "cell_type": "code",
   "execution_count": null,
   "id": "751874a3-19da-42bd-bc17-11933d49ab72",
   "metadata": {},
   "outputs": [],
   "source": [
    "headers = {\n",
    "    \"Authorization\" : \"Bearer \" + input(\"yelp api key\")\n",
    "}"
   ]
  },
  {
   "cell_type": "code",
   "execution_count": null,
   "id": "05e21766-97ca-491d-b137-449134daac0e",
   "metadata": {},
   "outputs": [],
   "source": [
    "def get_restaurants(cuisine, restaurants):\n",
    "    counter = 0\n",
    "    params = {\n",
    "        \"term\" : cuisine,\n",
    "        \"location\" : \"New York City\",\n",
    "        \"categories\" : \"restaurants\",\n",
    "        \"limit\" : 50,\n",
    "        \"offset\" : 0\n",
    "    }\n",
    "    response = requests.get(\"https://api.yelp.com/v3/businesses/search\", params=params, headers=headers)\n",
    "    cur_list = json.loads(response.text, parse_float=Decimal)\n",
    "    while counter + params['offset'] < cur_list['total']:\n",
    "        unique_counter = 0\n",
    "        cur_list = json.loads(response.text)\n",
    "        for res in cur_list['businesses']:\n",
    "            cur_res = {\n",
    "                \"id\" : res[\"id\"],\n",
    "                \"timestamp\" : int(time.time() * 1000),\n",
    "                \"cuisine\" : cuisine,\n",
    "                \"name\" : res[\"name\"],\n",
    "                \"address\" : res[\"location\"]['display_address'],\n",
    "                \"latitude\" : res[\"coordinates\"]['latitude'],\n",
    "                \"longitude\" : res[\"coordinates\"]['longitude'],\n",
    "                \"zip\" : res[\"location\"]['zip_code'],\n",
    "                \"review_count\" : res[\"review_count\"],\n",
    "                \"rating\" : res[\"rating\"],\n",
    "            }\n",
    "            if cur_res[\"id\"] not in restaurants:\n",
    "                unique_counter += 1\n",
    "            restaurants[cur_res[\"id\"]] = cur_res\n",
    "        print(unique_counter, ' results for', counter, end=' ')\n",
    "        counter += len(cur_list['businesses'])\n",
    "        params['offset'] = counter\n",
    "        response = requests.get(\"https://api.yelp.com/v3/businesses/search\", params=params, headers=headers)"
   ]
  },
  {
   "cell_type": "code",
   "execution_count": null,
   "id": "91838c26-9e11-4bdb-88f0-98ddcdf4d00c",
   "metadata": {},
   "outputs": [],
   "source": [
    "for cuisine in ['Chinese', 'Japanese', 'Indian', 'Ethiopian', 'Korean', 'Mediterranean', 'Jamaican', 'Mexican']:\n",
    "    try:\n",
    "        get_restaurants(cuisine, restaurants)\n",
    "    except Exception:\n",
    "        print(\"done with \", cuisine)"
   ]
  },
  {
   "cell_type": "code",
   "execution_count": null,
   "id": "a823bb5a-c13c-45ea-ac68-b2c9ffd7b33f",
   "metadata": {},
   "outputs": [],
   "source": [
    "sample = dict()\n",
    "for a in restaurants.values():\n",
    "    sample = a\n",
    "    print(sample)\n",
    "    break"
   ]
  },
  {
   "cell_type": "code",
   "execution_count": null,
   "id": "a0d18ab7-dff0-4d40-8d16-4a024e37069f",
   "metadata": {},
   "outputs": [],
   "source": [
    "with open(\"D:\\\\Documents\\\\Documents\\\\Cloud Computing\\\\HW1\\\\restaurants.csv\", \"w\") as res_file:\n",
    "    row_names = list(sample.keys())\n",
    "    csv_writer = csv.DictWriter(res_file, row_names)\n",
    "    csv_writer.writeheader()\n",
    "    counter = 0\n",
    "    for val in restaurants.values():\n",
    "        try:\n",
    "            csv_writer.writerow(val)\n",
    "            counter += 1\n",
    "        except Exception:\n",
    "            pass\n",
    "    print(counter, \"good records\")"
   ]
  },
  {
   "cell_type": "code",
   "execution_count": null,
   "id": "6b33f3f5-136e-4fda-846a-88e1380419c3",
   "metadata": {},
   "outputs": [],
   "source": [
    "res2 = dict(restaurants)\n",
    "for res_id,res in restaurants.items():\n",
    "    cur_res = dict(res)\n",
    "    cur_res['address'] = res['address']['display_address'][0]\n",
    "    cur_res['zip'] = res['address']['zip_code']\n",
    "    cur_res['latitude'] = res['coordinates']['latitude']\n",
    "    cur_res['longitude'] = res['coordinates']['longitude']\n",
    "    res2[res_id] = cur_res"
   ]
  },
  {
   "cell_type": "code",
   "execution_count": null,
   "id": "3c9a0044-ff97-4c7e-a1ba-75ebcceea011",
   "metadata": {},
   "outputs": [],
   "source": [
    "restaurants = dict()"
   ]
  },
  {
   "cell_type": "code",
   "execution_count": null,
   "id": "82d75e82-1f93-4a84-8d57-9d97db69d1f5",
   "metadata": {},
   "outputs": [],
   "source": [
    "with open(\"D:\\\\Documents\\\\Documents\\\\Cloud Computing\\\\HW1\\\\restaurants.csv\") as res_file:\n",
    "    reader = csv.DictReader(res_file)\n",
    "    for row in reader:\n",
    "        try:\n",
    "            cur_row = {\n",
    "                'id' : row['id'],\n",
    "                'cuisine' : row['cuisine'],\n",
    "                'name' : row['name'],\n",
    "                'address' : row['address'],\n",
    "                'review_count' : int(row['review_count']),\n",
    "                'rating' : float(row['rating']),\n",
    "                'zip' : int(row['zip']),\n",
    "                'latitude' : float(row['latitude']),\n",
    "                'longitude' : float(row['longitude']),\n",
    "                'timestamp' : int(time.time() * 1000),\n",
    "            }\n",
    "            restaurants[cur_row['id']] = cur_row\n",
    "        except:\n",
    "            pass"
   ]
  },
  {
   "cell_type": "code",
   "execution_count": null,
   "id": "33350d45-7c9e-4a43-a21d-901b9ca398b9",
   "metadata": {},
   "outputs": [],
   "source": [
    "dynamodb = boto3.resource('dynamodb',region_name='us-east-1', aws_access_key_id=input('access key:'),\n",
    "    aws_secret_access_key=input('secret access key: '))\n",
    "table = dynamodb.Table('yelp-restaurants')"
   ]
  },
  {
   "cell_type": "code",
   "execution_count": null,
   "id": "ff247bc1-14d4-44ce-aa68-6f19b0e6146a",
   "metadata": {},
   "outputs": [],
   "source": [
    "counter = 0\n",
    "with table.batch_writer() as batch:\n",
    "    for res in restaurants.values():\n",
    "        cur_res = json.loads(json.dumps(res), parse_float=Decimal)\n",
    "        batch.put_item(\n",
    "            Item = cur_res\n",
    "        )"
   ]
  },
  {
   "cell_type": "code",
   "execution_count": null,
   "id": "67320d58-3716-4953-9258-6b20f6baa257",
   "metadata": {},
   "outputs": [],
   "source": []
  },
  {
   "cell_type": "code",
   "execution_count": null,
   "id": "e174a9fd-66b6-48a4-8677-eed2fb2a5dff",
   "metadata": {},
   "outputs": [],
   "source": [
    "with open(\"D:\\\\Documents\\\\Documents\\\\Cloud Computing\\\\HW1\\\\restaurants_index.txt\", \"w\") as idx_file:\n",
    "    for res_id, cur_res in restaurants.items():\n",
    "        idx_file.write(res_id + ',' + cur_res['cuisine'] + '\\n')\n",
    "    "
   ]
  },
  {
   "cell_type": "code",
   "execution_count": null,
   "id": "6cb1918c-5b3c-40fc-abec-ee96823de51b",
   "metadata": {},
   "outputs": [],
   "source": [
    "region = 'us-east-1'\n",
    "service = 'es'\n",
    "credentials = boto3.Session().get_credentials()\n",
    "awsauth = AWS4Auth(credentials.access_key, credentials.secret_key, region, service, session_token=credentials.token)\n",
    "\n",
    "host = 'https://search-restaurantscuisinedomain-3lysmwsbjfmsnmnc754dmm5x6e.us-east-1.es.amazonaws.com'\n",
    "index = 'restaurants'\n",
    "idx_type = '_doc'\n",
    "url = host + '/' + index + '/' + idx_type + '/'\n",
    "headers = { \"Content-Type\": \"application/json\" }"
   ]
  },
  {
   "cell_type": "code",
   "execution_count": null,
   "id": "a064e270-6c8b-438b-b9d1-96e78941be3e",
   "metadata": {},
   "outputs": [],
   "source": [
    "for res_id, cur_res in restaurants.items():\n",
    "    r = requests.put(url + res_id, auth=awsauth, json={'id' : res_id, 'cuisine' : cur_res['cuisine']}, headers = headers)\n",
    "    print(r.status_code, end=' ')"
   ]
  },
  {
   "cell_type": "code",
   "execution_count": null,
   "id": "74519931-cede-44ba-b42e-ed2ffe731aa1",
   "metadata": {},
   "outputs": [],
   "source": []
  }
 ],
 "metadata": {
  "kernelspec": {
   "display_name": "Python 3 (ipykernel)",
   "language": "python",
   "name": "python3"
  },
  "language_info": {
   "codemirror_mode": {
    "name": "ipython",
    "version": 3
   },
   "file_extension": ".py",
   "mimetype": "text/x-python",
   "name": "python",
   "nbconvert_exporter": "python",
   "pygments_lexer": "ipython3",
   "version": "3.10.7"
  }
 },
 "nbformat": 4,
 "nbformat_minor": 5
}
